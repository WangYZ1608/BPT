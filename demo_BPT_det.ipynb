{
 "cells": [
  {
   "attachments": {},
   "cell_type": "markdown",
   "metadata": {},
   "source": [
    "# Bursty Prompt Tuning: detection on COCO\n",
    "\n",
    "This is a detection demo using our BPT with Cacade Mask R-CNN model. No GPU is needed.\n",
    "\n",
    "## Import packages"
   ]
  },
  {
   "cell_type": "code",
   "execution_count": 13,
   "metadata": {},
   "outputs": [],
   "source": [
    "\n",
    "import torch, json\n",
    "from torchvision.transforms import functional as F\n",
    "from Model.backbone import SimpleFeaturePyramid, MAE_bpt_shallow\n",
    "from Model.detection import MaskRCNN\n",
    "from PIL import Image\n",
    "from utils import Visualizer\n",
    "from collections import OrderedDict\n",
    "from pathlib import Path\n",
    "import os\n",
    "import warnings\n",
    "warnings.filterwarnings(\"ignore\")"
   ]
  },
  {
   "attachments": {},
   "cell_type": "markdown",
   "metadata": {},
   "source": [
    "## Prepare model"
   ]
  },
  {
   "cell_type": "code",
   "execution_count": 14,
   "metadata": {},
   "outputs": [],
   "source": [
    "def create_model(num_classes):\n",
    "    vit_backbone = MAE_bpt_shallow.__dict__[\"MAE_bpt_vit_b\"](\n",
    "        drop_path_rate=0.0, \n",
    "        num_prompts=100, \n",
    "        channels=100,\n",
    "    )\n",
    "\n",
    "    backbone = SimpleFeaturePyramid(\n",
    "        backbone=vit_backbone,\n",
    "        out_channels=256,\n",
    "        scale_factors=(4.0, 2.0, 1.0, 0.5),\n",
    "        top_block=True,\n",
    "        norm=\"LN\",\n",
    "    )\n",
    "\n",
    "    roi_heads = \"CascadeRoIHead\"\n",
    "    model = MaskRCNN(backbone=backbone, num_classes=num_classes, roi_heads=roi_heads, box_head_norm=\"LN\", mask_head_norm=\"LN\")\n",
    "\n",
    "    # load weights\n",
    "    weights_path = './ckpt.pth'\n",
    "    ckpt = torch.load(weights_path, map_location=\"cpu\")['model']\n",
    "    new_state_dict = OrderedDict()\n",
    "\n",
    "    for k, v in ckpt.items():\n",
    "        name = k[7:]   # remove 'module.'\n",
    "        new_state_dict[name] = v\n",
    "\n",
    "    msg = model.load_state_dict(new_state_dict, strict=False)\n",
    "    print(msg)\n",
    "    return model"
   ]
  },
  {
   "attachments": {},
   "cell_type": "markdown",
   "metadata": {},
   "source": [
    "## Visualizer"
   ]
  },
  {
   "cell_type": "code",
   "execution_count": 15,
   "metadata": {},
   "outputs": [
    {
     "name": "stdout",
     "output_type": "stream",
     "text": [
      "Fast R-CNN box head: 4Conv1FC\n",
      "<All keys matched successfully>\n",
      "sava results in:\n",
      "visual/results/cascade-bpt/vit_b-000000087144.png\n",
      "sava results in:\n",
      "visual/results/cascade-bpt/vit_b-000000110211.png\n",
      "sava results in:\n",
      "visual/results/cascade-bpt/vit_b-000000142238.png\n",
      "sava results in:\n",
      "visual/results/cascade-bpt/vit_b-000000171382.png\n",
      "sava results in:\n",
      "visual/results/cascade-bpt/vit_b-000000173799.png\n",
      "sava results in:\n",
      "visual/results/cascade-bpt/vit_b-000000185409.png\n",
      "sava results in:\n",
      "visual/results/cascade-bpt/vit_b-000000188296.png\n",
      "sava results in:\n",
      "visual/results/cascade-bpt/vit_b-000000197388.png\n",
      "sava results in:\n",
      "visual/results/cascade-bpt/vit_b-000000211120.png\n",
      "sava results in:\n",
      "visual/results/cascade-bpt/vit_b-000000227898.png\n",
      "sava results in:\n",
      "visual/results/cascade-bpt/vit_b-000000268375.png\n",
      "sava results in:\n",
      "visual/results/cascade-bpt/vit_b-000000314034.png\n",
      "sava results in:\n",
      "visual/results/cascade-bpt/vit_b-000000319935.png\n",
      "sava results in:\n",
      "visual/results/cascade-bpt/vit_b-000000336232.png\n",
      "sava results in:\n",
      "visual/results/cascade-bpt/vit_b-000000382111.png\n",
      "sava results in:\n",
      "visual/results/cascade-bpt/vit_b-000000457559.png\n",
      "sava results in:\n",
      "visual/results/cascade-bpt/vit_b-000000570688.png\n"
     ]
    }
   ],
   "source": [
    "# load image, random sample from COCO val-set\n",
    "img_path_list = [\"./visual/images/000000087144.jpg\",\n",
    "                 \"./visual/images/000000110211.jpg\",\n",
    "                 \"./visual/images/000000142238.jpg\",\n",
    "                 \"./visual/images/000000171382.jpg\",\n",
    "                 \"./visual/images/000000173799.jpg\",\n",
    "                 \"./visual/images/000000185409.jpg\",\n",
    "                 \"./visual/images/000000188296.jpg\",\n",
    "                 \"./visual/images/000000197388.jpg\",\n",
    "                 \"./visual/images/000000211120.jpg\",\n",
    "                 \"./visual/images/000000227898.jpg\",\n",
    "                 \"./visual/images/000000268375.jpg\",\n",
    "                 \"./visual/images/000000314034.jpg\",\n",
    "                 \"./visual/images/000000319935.jpg\",\n",
    "                 \"./visual/images/000000336232.jpg\",\n",
    "                 \"./visual/images/000000382111.jpg\",\n",
    "                 \"./visual/images/000000457559.jpg\",\n",
    "                 \"./visual/images/000000570688.jpg\",\n",
    "                ]\n",
    "    \n",
    "# create model\n",
    "device = \"cpu\"\n",
    "model = create_model(num_classes=91)\n",
    "model.to(device)\n",
    "model.eval()\n",
    "\n",
    "# class-name\n",
    "with open(\"./Dataset/coco91_classname.json\", 'r') as f:\n",
    "    category_index = json.load(f)\n",
    "f.close()\n",
    "\n",
    "save_dir = Path(\"./visual/results/cascade-bpt\")\n",
    "save_dir.mkdir(parents=True, exist_ok=True)\n",
    "model_tags = {\n",
    "    \"MAE_bpt_vit_b\": \"vit_b\",\n",
    "}\n",
    "\n",
    "for img_path in img_path_list:\n",
    "    assert os.path.exists(img_path)\n",
    "    img = Image.open(img_path).convert(\"RGB\")\n",
    "\n",
    "    img_name = (img_path.split(\"/\")[-1]).split(\".\")[0]\n",
    "    save_path = os.path.join(save_dir, model_tags[\"MAE_bpt_vit_b\"] + \"-\" + img_name + '.png')\n",
    "    print(\"sava results in:\")\n",
    "    print(save_path)\n",
    "\n",
    "    # predict\n",
    "    img = F.to_tensor(img)\n",
    "    img_batch = torch.unsqueeze(img, dim=0).to(device)\n",
    "    with torch.no_grad():\n",
    "        pred = model(img_batch)[0]\n",
    "    \n",
    "    visualizer = Visualizer(img_rgb=img, visual_masks=True, linewidth=1.5, dpi=800, class_name=category_index)\n",
    "    vis_output = visualizer.draw_instance_predictions(pred=pred)\n",
    "    vis_output.save(filepath=save_path)\n",
    "    "
   ]
  }
 ],
 "metadata": {
  "kernelspec": {
   "display_name": "venv_ObjectDetect",
   "language": "python",
   "name": "python3"
  },
  "language_info": {
   "codemirror_mode": {
    "name": "ipython",
    "version": 3
   },
   "file_extension": ".py",
   "mimetype": "text/x-python",
   "name": "python",
   "nbconvert_exporter": "python",
   "pygments_lexer": "ipython3",
   "version": "3.8.10"
  },
  "orig_nbformat": 4,
  "vscode": {
   "interpreter": {
    "hash": "d36c2462953829805e862799ed967909d6e66381c9a5dc836776ed4edd3d2ad8"
   }
  }
 },
 "nbformat": 4,
 "nbformat_minor": 2
}
