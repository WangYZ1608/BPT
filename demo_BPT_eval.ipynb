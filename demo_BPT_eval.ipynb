{
 "cells": [
  {
   "attachments": {},
   "cell_type": "markdown",
   "metadata": {},
   "source": [
    "# Bursty Prompt Tuning\n",
    "\n",
    "This is a demo using to evaluate our trained BPT models.\n",
    "\n",
    "## Import packages"
   ]
  },
  {
   "cell_type": "code",
   "execution_count": 13,
   "metadata": {},
   "outputs": [],
   "source": [
    "import torch\n",
    "from torch.utils.data import DataLoader\n",
    "\n",
    "import Dataset\n",
    "import Models\n",
    "from collections import OrderedDict\n",
    "from utils import accuracy, AverageMeter"
   ]
  },
  {
   "attachments": {},
   "cell_type": "markdown",
   "metadata": {},
   "source": [
    "## Prepare Datasets\n",
    "\n",
    "take CUB-200 as an example."
   ]
  },
  {
   "cell_type": "code",
   "execution_count": 14,
   "metadata": {},
   "outputs": [
    {
     "name": "stdout",
     "output_type": "stream",
     "text": [
      "5994 5794 200\n"
     ]
    }
   ],
   "source": [
    "train_dataset, val_dataset, num_class = Dataset.__dict__[\"CUB200\"]()\n",
    "print(len(train_dataset), len(val_dataset), num_class)"
   ]
  },
  {
   "attachments": {},
   "cell_type": "markdown",
   "metadata": {},
   "source": [
    "## Prepare model\n",
    "take BPT-bilinear as an example."
   ]
  },
  {
   "cell_type": "code",
   "execution_count": 15,
   "metadata": {},
   "outputs": [
    {
     "name": "stdout",
     "output_type": "stream",
     "text": [
      "<All keys matched successfully>\n"
     ]
    }
   ],
   "source": [
    "weight_path = \"./run/ablation/length100-width75/ckpt.pth\"\n",
    "\n",
    "checkpoint = torch.load(weight_path, map_location=\"cpu\")['model']\n",
    "\n",
    "model = Models.__dict__[\"MAE_bpt_vit_b\"](\n",
    "            drop_path_rate=0.0, \n",
    "            global_pool=True,\n",
    "            num_prompts=100, \n",
    "            channels=75,\n",
    "            num_classes=num_class,\n",
    "        )\n",
    "msg = model.load_state_dict(checkpoint, strict=False)\n",
    "model.cuda()\n",
    "print(msg)"
   ]
  },
  {
   "attachments": {},
   "cell_type": "markdown",
   "metadata": {},
   "source": [
    "## Eval model"
   ]
  },
  {
   "cell_type": "code",
   "execution_count": 16,
   "metadata": {},
   "outputs": [
    {
     "name": "stdout",
     "output_type": "stream",
     "text": [
      "Acc: 0.7785640358924866\n"
     ]
    }
   ],
   "source": [
    "def testmodel(model, test_data):\n",
    "    val_acc1 = AverageMeter()\n",
    "    val_acc5 = AverageMeter()\n",
    "    \n",
    "    # model to evaluate mode\n",
    "    model.eval()\n",
    "\n",
    "    test_dataloader = DataLoader(test_data, batch_size=32, shuffle=False,\n",
    "                                 num_workers=8, pin_memory=True)\n",
    "\n",
    "    with torch.no_grad():\n",
    "        for step, (images, labels) in enumerate(test_dataloader):\n",
    "            images, labels = images.cuda(), labels.cuda()\n",
    "            # compute output\n",
    "            pred = model(images)\n",
    "\n",
    "            # measure accuracy and record loss\n",
    "            acc1, acc5 = accuracy(pred, labels, topk=(1, 5))\n",
    "\n",
    "            val_acc1.update(acc1[0], images.size(0))\n",
    "            val_acc5.update(acc5[0], images.size(0))\n",
    "    \n",
    "    return val_acc1.avg, val_acc5.avg\n",
    "\n",
    "acc = testmodel(model, val_dataset)\n",
    "print(\"Acc: {}\".format(acc[0]))"
   ]
  }
 ],
 "metadata": {
  "kernelspec": {
   "display_name": "venv",
   "language": "python",
   "name": "python3"
  },
  "language_info": {
   "codemirror_mode": {
    "name": "ipython",
    "version": 3
   },
   "file_extension": ".py",
   "mimetype": "text/x-python",
   "name": "python",
   "nbconvert_exporter": "python",
   "pygments_lexer": "ipython3",
   "version": "3.8.10"
  },
  "orig_nbformat": 4,
  "vscode": {
   "interpreter": {
    "hash": "3fb296c518e7aea6f35410d2d75da0f136b9330ebf7cbb2c1bb9ff470df8a33e"
   }
  }
 },
 "nbformat": 4,
 "nbformat_minor": 2
}
